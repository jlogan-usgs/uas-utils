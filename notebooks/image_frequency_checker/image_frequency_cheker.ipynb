{
 "cells": [
  {
   "cell_type": "code",
   "execution_count": 92,
   "id": "noted-condition",
   "metadata": {},
   "outputs": [],
   "source": [
    "import pandas as pd\n",
    "import exifread\n",
    "from pathlib import Path\n",
    "from datetime import datetime, timedelta\n",
    "import numpy as np"
   ]
  },
  {
   "cell_type": "markdown",
   "id": "clean-transaction",
   "metadata": {},
   "source": [
    "## Identify time deltas between images which are greater than expected."
   ]
  },
  {
   "cell_type": "code",
   "execution_count": 131,
   "id": "utility-hardwood",
   "metadata": {},
   "outputs": [],
   "source": [
    "imgdir = Path(r'D:\\mylocalpath')\n",
    "expected_freq_seconds = 1"
   ]
  },
  {
   "cell_type": "code",
   "execution_count": 132,
   "id": "military-placement",
   "metadata": {},
   "outputs": [],
   "source": [
    "def get_dt_original(fn):\n",
    "    '''Gets DateTimeOriginal value from EXIF'''\n",
    "    with open(fn, 'rb') as i:\n",
    "        tags = exifread.process_file(i)\n",
    "    dt_orig = str(tags.get('EXIF DateTimeOriginal'))\n",
    "    return dt_orig"
   ]
  },
  {
   "cell_type": "code",
   "execution_count": 133,
   "id": "ruled-reminder",
   "metadata": {},
   "outputs": [],
   "source": [
    "#instatiate new dataframe to hold image name, lat, long, etc\n",
    "df = pd.DataFrame(columns=['ImageName','ImageDateTime'])\n",
    "\n",
    "#get timestamps\n",
    "for fn in imgdir.glob('**/*.*'):\n",
    "    #Load image datetime from exif\n",
    "    imgdt = datetime.strptime(get_dt_original(fn), '%Y:%m:%d %H:%M:%S')\n",
    "    #Append to df\n",
    "    df = df.append({\n",
    "        'ImageName': fn.name,\n",
    "        'ImageDateTime': imgdt\n",
    "        }, ignore_index=True)\n",
    "\n",
    "#get time delta\n",
    "df['TimeDiff'] = df['ImageDateTime'].diff()"
   ]
  },
  {
   "cell_type": "code",
   "execution_count": 134,
   "id": "distinguished-eagle",
   "metadata": {},
   "outputs": [
    {
     "name": "stdout",
     "output_type": "stream",
     "text": [
      "First image time:              2021-10-13T17:06:40\n",
      "Last image time:               2021-10-13T17:06:45\n",
      "Elapsed time in seconds:       5\n",
      "Number of images in directory: 6\n",
      "\n",
      "Images preceeded by gaps greater than 1\n"
     ]
    },
    {
     "data": {
      "text/html": [
       "<div>\n",
       "<style scoped>\n",
       "    .dataframe tbody tr th:only-of-type {\n",
       "        vertical-align: middle;\n",
       "    }\n",
       "\n",
       "    .dataframe tbody tr th {\n",
       "        vertical-align: top;\n",
       "    }\n",
       "\n",
       "    .dataframe thead th {\n",
       "        text-align: right;\n",
       "    }\n",
       "</style>\n",
       "<table border=\"1\" class=\"dataframe\">\n",
       "  <thead>\n",
       "    <tr style=\"text-align: right;\">\n",
       "      <th></th>\n",
       "      <th>ImageName</th>\n",
       "      <th>ImageDateTime</th>\n",
       "      <th>TimeDiff</th>\n",
       "    </tr>\n",
       "  </thead>\n",
       "  <tbody>\n",
       "  </tbody>\n",
       "</table>\n",
       "</div>"
      ],
      "text/plain": [
       "Empty DataFrame\n",
       "Columns: [ImageName, ImageDateTime, TimeDiff]\n",
       "Index: []"
      ]
     },
     "execution_count": 134,
     "metadata": {},
     "output_type": "execute_result"
    }
   ],
   "source": [
    "#Get min and max times\n",
    "mintime = df[df['ImageDateTime'] == df['ImageDateTime'].min()]['ImageDateTime'].values[0]\n",
    "maxtime = df[df['ImageDateTime'] == df['ImageDateTime'].max()]['ImageDateTime'].values[0]\n",
    "timedelta = maxtime - mintime\n",
    "seconds = timedelta.astype('timedelta64[s]').astype(np.int32)\n",
    "\n",
    "\n",
    "#Report\n",
    "print(f'First image time:              {np.datetime_as_string(mintime, unit=\"s\")}')\n",
    "print(f'Last image time:               {np.datetime_as_string(maxtime, unit=\"s\")}')\n",
    "print(f'Elapsed time in seconds:       {seconds}')\n",
    "print(f'Number of images in directory: {df.shape[0]}\\n')\n",
    "\n",
    "print(f'Images preceeded by gaps greater than {expected_freq_seconds}')\n",
    "df[df['TimeDiff'].dt.total_seconds() > expected_freq_seconds]\n"
   ]
  },
  {
   "cell_type": "code",
   "execution_count": null,
   "id": "minus-drama",
   "metadata": {},
   "outputs": [],
   "source": []
  }
 ],
 "metadata": {
  "kernelspec": {
   "display_name": "Python 3",
   "language": "python",
   "name": "python3"
  },
  "language_info": {
   "codemirror_mode": {
    "name": "ipython",
    "version": 3
   },
   "file_extension": ".py",
   "mimetype": "text/x-python",
   "name": "python",
   "nbconvert_exporter": "python",
   "pygments_lexer": "ipython3",
   "version": "3.7.9"
  }
 },
 "nbformat": 4,
 "nbformat_minor": 5
}
